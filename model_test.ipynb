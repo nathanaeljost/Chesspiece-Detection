{
 "cells": [
  {
   "cell_type": "code",
   "execution_count": 1,
   "metadata": {},
   "outputs": [],
   "source": [
    "import pandas as pd"
   ]
  },
  {
   "cell_type": "code",
   "execution_count": 3,
   "metadata": {},
   "outputs": [],
   "source": [
    "chess_train_df = pd.read_pickle('data/final_data/train/chess_train_df.p')\n",
    "chess_val_df = pd.read_pickle('data/final_data/val/chess_val_df.p')\n",
    "chess_test_df = pd.read_pickle('data/final_data/test/chess_test_df.p')"
   ]
  },
  {
   "cell_type": "code",
   "execution_count": 4,
   "metadata": {},
   "outputs": [
    {
     "data": {
      "text/html": [
       "<div>\n",
       "<style scoped>\n",
       "    .dataframe tbody tr th:only-of-type {\n",
       "        vertical-align: middle;\n",
       "    }\n",
       "\n",
       "    .dataframe tbody tr th {\n",
       "        vertical-align: top;\n",
       "    }\n",
       "\n",
       "    .dataframe thead th {\n",
       "        text-align: right;\n",
       "    }\n",
       "</style>\n",
       "<table border=\"1\" class=\"dataframe\">\n",
       "  <thead>\n",
       "    <tr style=\"text-align: right;\">\n",
       "      <th></th>\n",
       "      <th>filename</th>\n",
       "      <th>width</th>\n",
       "      <th>height</th>\n",
       "      <th>class</th>\n",
       "      <th>xmin</th>\n",
       "      <th>ymin</th>\n",
       "      <th>xmax</th>\n",
       "      <th>ymax</th>\n",
       "      <th>image</th>\n",
       "    </tr>\n",
       "  </thead>\n",
       "  <tbody>\n",
       "    <tr>\n",
       "      <th>13</th>\n",
       "      <td>IMG_20220815_212205_DRO_jpg.rf.006398adca061fc...</td>\n",
       "      <td>224</td>\n",
       "      <td>224</td>\n",
       "      <td>black-bishop</td>\n",
       "      <td>45.422222</td>\n",
       "      <td>107.333328</td>\n",
       "      <td>64.296295</td>\n",
       "      <td>121.17778</td>\n",
       "      <td>[[[15, 13, 16], [14, 12, 15], [11, 9, 12], [13...</td>\n",
       "    </tr>\n",
       "    <tr>\n",
       "      <th>14</th>\n",
       "      <td>IMG_20220815_212205_DRO_jpg.rf.006398adca061fc...</td>\n",
       "      <td>224</td>\n",
       "      <td>224</td>\n",
       "      <td>black-bishop</td>\n",
       "      <td>46.874073</td>\n",
       "      <td>70.466667</td>\n",
       "      <td>67.40741</td>\n",
       "      <td>85.08889</td>\n",
       "      <td>[[[15, 13, 16], [14, 12, 15], [11, 9, 12], [13...</td>\n",
       "    </tr>\n",
       "    <tr>\n",
       "      <th>15</th>\n",
       "      <td>IMG_20220815_212205_DRO_jpg.rf.006398adca061fc...</td>\n",
       "      <td>224</td>\n",
       "      <td>224</td>\n",
       "      <td>black-king</td>\n",
       "      <td>13.066667</td>\n",
       "      <td>123.82222</td>\n",
       "      <td>42.725925</td>\n",
       "      <td>136.422226</td>\n",
       "      <td>[[[15, 13, 16], [14, 12, 15], [11, 9, 12], [13...</td>\n",
       "    </tr>\n",
       "    <tr>\n",
       "      <th>16</th>\n",
       "      <td>IMG_20220815_212205_DRO_jpg.rf.006398adca061fc...</td>\n",
       "      <td>224</td>\n",
       "      <td>224</td>\n",
       "      <td>black-king</td>\n",
       "      <td>10.162963</td>\n",
       "      <td>158.044449</td>\n",
       "      <td>42.725925</td>\n",
       "      <td>179.511108</td>\n",
       "      <td>[[[15, 13, 16], [14, 12, 15], [11, 9, 12], [13...</td>\n",
       "    </tr>\n",
       "    <tr>\n",
       "      <th>17</th>\n",
       "      <td>IMG_20220815_212205_DRO_jpg.rf.006398adca061fc...</td>\n",
       "      <td>224</td>\n",
       "      <td>224</td>\n",
       "      <td>black-king</td>\n",
       "      <td>162.607407</td>\n",
       "      <td>175.622223</td>\n",
       "      <td>194.340729</td>\n",
       "      <td>202.533325</td>\n",
       "      <td>[[[15, 13, 16], [14, 12, 15], [11, 9, 12], [13...</td>\n",
       "    </tr>\n",
       "  </tbody>\n",
       "</table>\n",
       "</div>"
      ],
      "text/plain": [
       "                                             filename width height  \\\n",
       "13  IMG_20220815_212205_DRO_jpg.rf.006398adca061fc...   224    224   \n",
       "14  IMG_20220815_212205_DRO_jpg.rf.006398adca061fc...   224    224   \n",
       "15  IMG_20220815_212205_DRO_jpg.rf.006398adca061fc...   224    224   \n",
       "16  IMG_20220815_212205_DRO_jpg.rf.006398adca061fc...   224    224   \n",
       "17  IMG_20220815_212205_DRO_jpg.rf.006398adca061fc...   224    224   \n",
       "\n",
       "           class        xmin        ymin        xmax        ymax  \\\n",
       "13  black-bishop   45.422222  107.333328   64.296295   121.17778   \n",
       "14  black-bishop   46.874073   70.466667    67.40741    85.08889   \n",
       "15    black-king   13.066667   123.82222   42.725925  136.422226   \n",
       "16    black-king   10.162963  158.044449   42.725925  179.511108   \n",
       "17    black-king  162.607407  175.622223  194.340729  202.533325   \n",
       "\n",
       "                                                image  \n",
       "13  [[[15, 13, 16], [14, 12, 15], [11, 9, 12], [13...  \n",
       "14  [[[15, 13, 16], [14, 12, 15], [11, 9, 12], [13...  \n",
       "15  [[[15, 13, 16], [14, 12, 15], [11, 9, 12], [13...  \n",
       "16  [[[15, 13, 16], [14, 12, 15], [11, 9, 12], [13...  \n",
       "17  [[[15, 13, 16], [14, 12, 15], [11, 9, 12], [13...  "
      ]
     },
     "execution_count": 4,
     "metadata": {},
     "output_type": "execute_result"
    }
   ],
   "source": [
    "chess_train_df.head()"
   ]
  },
  {
   "cell_type": "code",
   "execution_count": null,
   "metadata": {},
   "outputs": [],
   "source": []
  }
 ],
 "metadata": {
  "kernelspec": {
   "display_name": "Chesspiece-Detection-KloNB-iQ",
   "language": "python",
   "name": "python3"
  },
  "language_info": {
   "codemirror_mode": {
    "name": "ipython",
    "version": 3
   },
   "file_extension": ".py",
   "mimetype": "text/x-python",
   "name": "python",
   "nbconvert_exporter": "python",
   "pygments_lexer": "ipython3",
   "version": "3.10.9"
  },
  "orig_nbformat": 4,
  "vscode": {
   "interpreter": {
    "hash": "ed2134023738693953f36c3bef60cd2c1ec1a5b30f59b14e0edb653ce3bbd869"
   }
  }
 },
 "nbformat": 4,
 "nbformat_minor": 2
}
