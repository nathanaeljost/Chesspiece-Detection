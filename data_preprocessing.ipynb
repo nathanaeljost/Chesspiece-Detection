{
 "cells": [
  {
   "attachments": {},
   "cell_type": "markdown",
   "metadata": {},
   "source": [
    "# Data Preprocessing"
   ]
  },
  {
   "cell_type": "code",
   "execution_count": 1,
   "metadata": {},
   "outputs": [],
   "source": [
    "import pandas as pd\n",
    "import PIL\n",
    "from glob import glob\n",
    "import os\n",
    "import matplotlib.pyplot as plt\n",
    "import re"
   ]
  },
  {
   "cell_type": "code",
   "execution_count": 2,
   "metadata": {},
   "outputs": [],
   "source": [
    "\n",
    "def load_data(typ):\n",
    "\n",
    "    \"\"\"Load image data and join with annotation information.\"\"\"\n",
    "\n",
    "    df_annotation = pd.read_csv(f\"data/{typ}/_annotations.csv\")\n",
    "    df_img = pd.DataFrame()\n",
    "\n",
    "    base_dir = rf'data/{typ}/*.jpg'\n",
    "    files = glob(base_dir)\n",
    "\n",
    "    imgs = []\n",
    "    for i in files:\n",
    "        imgs.append(plt.imread(i))\n",
    "\n",
    "    files = [re.sub(f'data/{typ}/', '', i) for i in files]\n",
    "\n",
    "    df_img['filename'] = files\n",
    "    df_img['image'] = imgs\n",
    "    df_train = pd.merge(df_annotation, df_img, on='filename')\n",
    "    return df_train\n"
   ]
  },
  {
   "cell_type": "code",
   "execution_count": 3,
   "metadata": {},
   "outputs": [],
   "source": [
    "df_train = load_data('train')"
   ]
  },
  {
   "cell_type": "code",
   "execution_count": 4,
   "metadata": {},
   "outputs": [],
   "source": [
    "df_valid = load_data('valid')"
   ]
  },
  {
   "cell_type": "code",
   "execution_count": 5,
   "metadata": {},
   "outputs": [],
   "source": [
    "df_test = load_data('test')"
   ]
  },
  {
   "cell_type": "code",
   "execution_count": 6,
   "metadata": {},
   "outputs": [
    {
     "name": "stdout",
     "output_type": "stream",
     "text": [
      "<class 'pandas.core.frame.DataFrame'>\n",
      "Int64Index: 48489 entries, 0 to 48488\n",
      "Data columns (total 9 columns):\n",
      " #   Column    Non-Null Count  Dtype \n",
      "---  ------    --------------  ----- \n",
      " 0   filename  48489 non-null  object\n",
      " 1   width     48489 non-null  int64 \n",
      " 2   height    48489 non-null  int64 \n",
      " 3   class     48489 non-null  object\n",
      " 4   xmin      48489 non-null  int64 \n",
      " 5   ymin      48489 non-null  int64 \n",
      " 6   xmax      48489 non-null  int64 \n",
      " 7   ymax      48489 non-null  int64 \n",
      " 8   image     48489 non-null  object\n",
      "dtypes: int64(6), object(3)\n",
      "memory usage: 3.7+ MB\n",
      "None\n",
      "<class 'pandas.core.frame.DataFrame'>\n",
      "Int64Index: 14501 entries, 0 to 14500\n",
      "Data columns (total 9 columns):\n",
      " #   Column    Non-Null Count  Dtype \n",
      "---  ------    --------------  ----- \n",
      " 0   filename  14501 non-null  object\n",
      " 1   width     14501 non-null  int64 \n",
      " 2   height    14501 non-null  int64 \n",
      " 3   class     14501 non-null  object\n",
      " 4   xmin      14501 non-null  int64 \n",
      " 5   ymin      14501 non-null  int64 \n",
      " 6   xmax      14501 non-null  int64 \n",
      " 7   ymax      14501 non-null  int64 \n",
      " 8   image     14501 non-null  object\n",
      "dtypes: int64(6), object(3)\n",
      "memory usage: 1.1+ MB\n",
      "None\n",
      "<class 'pandas.core.frame.DataFrame'>\n",
      "Int64Index: 1185 entries, 0 to 1184\n",
      "Data columns (total 9 columns):\n",
      " #   Column    Non-Null Count  Dtype \n",
      "---  ------    --------------  ----- \n",
      " 0   filename  1185 non-null   object\n",
      " 1   width     1185 non-null   int64 \n",
      " 2   height    1185 non-null   int64 \n",
      " 3   class     1185 non-null   object\n",
      " 4   xmin      1185 non-null   int64 \n",
      " 5   ymin      1185 non-null   int64 \n",
      " 6   xmax      1185 non-null   int64 \n",
      " 7   ymax      1185 non-null   int64 \n",
      " 8   image     1185 non-null   object\n",
      "dtypes: int64(6), object(3)\n",
      "memory usage: 92.6+ KB\n",
      "None\n"
     ]
    }
   ],
   "source": [
    "print(df_train.info())\n",
    "print(df_valid.info())\n",
    "print(df_test.info())"
   ]
  },
  {
   "cell_type": "code",
   "execution_count": null,
   "metadata": {},
   "outputs": [],
   "source": []
  }
 ],
 "metadata": {
  "kernelspec": {
   "display_name": "Cancer-Detection-MjsmDLDT",
   "language": "python",
   "name": "python3"
  },
  "language_info": {
   "codemirror_mode": {
    "name": "ipython",
    "version": 3
   },
   "file_extension": ".py",
   "mimetype": "text/x-python",
   "name": "python",
   "nbconvert_exporter": "python",
   "pygments_lexer": "ipython3",
   "version": "3.10.9"
  },
  "orig_nbformat": 4,
  "vscode": {
   "interpreter": {
    "hash": "0f97a322e86eb24db3bc57dc48d7deadd9adb67171af6771b5015e0fa8fb0635"
   }
  }
 },
 "nbformat": 4,
 "nbformat_minor": 2
}
