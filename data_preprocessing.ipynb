{
 "cells": [
  {
   "attachments": {},
   "cell_type": "markdown",
   "metadata": {},
   "source": [
    "# Data Preprocessing"
   ]
  },
  {
   "cell_type": "code",
   "execution_count": 1,
   "metadata": {},
   "outputs": [],
   "source": [
    "import pandas as pd\n",
    "import PIL\n",
    "from glob import glob\n",
    "import os\n",
    "import matplotlib.pyplot as plt\n",
    "import re"
   ]
  },
  {
   "cell_type": "code",
   "execution_count": 2,
   "metadata": {},
   "outputs": [],
   "source": [
    "\n",
    "def load_data(typ):\n",
    "\n",
    "    \"\"\"Load image data and join with annotation information.\"\"\"\n",
    "\n",
    "    df_annotation = pd.read_csv(f\"data/{typ}/_annotations.csv\")\n",
    "    df_img = pd.DataFrame()\n",
    "\n",
    "    base_dir = rf'data/{typ}/*.jpg'\n",
    "    files = glob(base_dir)\n",
    "\n",
    "    imgs = []\n",
    "    for i in files:\n",
    "        imgs.append(plt.imread(i))\n",
    "\n",
    "    files = [re.sub(f'data/{typ}/', '', i) for i in files]\n",
    "\n",
    "    df_img['filename'] = files\n",
    "    df_img['image'] = imgs\n",
    "    df_train = pd.merge(df_annotation, df_img, on='filename')\n",
    "    return df_train\n"
   ]
  },
  {
   "cell_type": "code",
   "execution_count": 3,
   "metadata": {},
   "outputs": [],
   "source": [
    "df_train = load_data('train')"
   ]
  },
  {
   "cell_type": "code",
   "execution_count": 4,
   "metadata": {},
   "outputs": [],
   "source": [
    "df_valid = load_data('valid')"
   ]
  },
  {
   "cell_type": "code",
   "execution_count": 5,
   "metadata": {},
   "outputs": [],
   "source": [
    "df_test = load_data('test')"
   ]
  },
  {
   "cell_type": "code",
   "execution_count": 6,
   "metadata": {},
   "outputs": [
    {
     "name": "stdout",
     "output_type": "stream",
     "text": [
      "<class 'pandas.core.frame.DataFrame'>\n",
      "Int64Index: 48489 entries, 0 to 48488\n",
      "Data columns (total 9 columns):\n",
      " #   Column    Non-Null Count  Dtype \n",
      "---  ------    --------------  ----- \n",
      " 0   filename  48489 non-null  object\n",
      " 1   width     48489 non-null  int64 \n",
      " 2   height    48489 non-null  int64 \n",
      " 3   class     48489 non-null  object\n",
      " 4   xmin      48489 non-null  int64 \n",
      " 5   ymin      48489 non-null  int64 \n",
      " 6   xmax      48489 non-null  int64 \n",
      " 7   ymax      48489 non-null  int64 \n",
      " 8   image     48489 non-null  object\n",
      "dtypes: int64(6), object(3)\n",
      "memory usage: 3.7+ MB\n",
      "None\n",
      "<class 'pandas.core.frame.DataFrame'>\n",
      "Int64Index: 14501 entries, 0 to 14500\n",
      "Data columns (total 9 columns):\n",
      " #   Column    Non-Null Count  Dtype \n",
      "---  ------    --------------  ----- \n",
      " 0   filename  14501 non-null  object\n",
      " 1   width     14501 non-null  int64 \n",
      " 2   height    14501 non-null  int64 \n",
      " 3   class     14501 non-null  object\n",
      " 4   xmin      14501 non-null  int64 \n",
      " 5   ymin      14501 non-null  int64 \n",
      " 6   xmax      14501 non-null  int64 \n",
      " 7   ymax      14501 non-null  int64 \n",
      " 8   image     14501 non-null  object\n",
      "dtypes: int64(6), object(3)\n",
      "memory usage: 1.1+ MB\n",
      "None\n",
      "<class 'pandas.core.frame.DataFrame'>\n",
      "Int64Index: 1185 entries, 0 to 1184\n",
      "Data columns (total 9 columns):\n",
      " #   Column    Non-Null Count  Dtype \n",
      "---  ------    --------------  ----- \n",
      " 0   filename  1185 non-null   object\n",
      " 1   width     1185 non-null   int64 \n",
      " 2   height    1185 non-null   int64 \n",
      " 3   class     1185 non-null   object\n",
      " 4   xmin      1185 non-null   int64 \n",
      " 5   ymin      1185 non-null   int64 \n",
      " 6   xmax      1185 non-null   int64 \n",
      " 7   ymax      1185 non-null   int64 \n",
      " 8   image     1185 non-null   object\n",
      "dtypes: int64(6), object(3)\n",
      "memory usage: 92.6+ KB\n",
      "None\n"
     ]
    }
   ],
   "source": [
    "print(df_train.info())\n",
    "print(df_valid.info())\n",
    "print(df_test.info())"
   ]
  },
  {
   "cell_type": "code",
   "execution_count": 23,
   "metadata": {},
   "outputs": [
    {
     "name": "stdout",
     "output_type": "stream",
     "text": [
      "{(1200, 1600, 3), (1300, 895, 3), (1795, 2244, 3), (768, 1024, 3), (1080, 1920, 3), (1080, 1000, 3), (300, 300, 3), (1024, 768, 3), (800, 667, 3), (900, 900, 3), (1080, 1440, 3), (1024, 680, 3), (612, 458, 3), (500, 500, 3), (1700, 1067, 3), (300, 203, 3), (3000, 3000, 3), (1088, 1088, 3), (468, 450, 3), (900, 600, 3), (450, 295, 3), (320, 450, 3), (199, 300, 3), (470, 300, 3), (879, 322, 3), (1080, 700, 3), (3183, 2131, 3), (1300, 1020, 3), (598, 462, 3), (360, 375, 3), (500, 334, 3), (1440, 1080, 3), (581, 561, 3), (1200, 800, 3), (1000, 1000, 3), (980, 900, 3), (600, 800, 3), (300, 191, 3), (400, 400, 3), (378, 378, 3), (1100, 850, 3), (1600, 1200, 3), (512, 512, 3), (512, 765, 3), (1300, 975, 3), (798, 1200, 3), (479, 359, 3), (256, 256, 3), (456, 570, 3), (450, 450, 3), (1080, 1080, 3), (470, 299, 3), (512, 296, 3), (715, 300, 3), (1728, 1728, 3), (3000, 4000, 3), (500, 346, 3), (274, 250, 3), (1300, 1300, 3), (520, 900, 3), (4000, 3000, 3)}\n"
     ]
    }
   ],
   "source": [
    "shapes = []\n",
    "shape_list = list(df_test['image'])\n",
    "[shapes.append(i.shape) for i in shape_list]\n",
    "\n",
    "print(set(shapes))\n"
   ]
  },
  {
   "cell_type": "code",
   "execution_count": 28,
   "metadata": {},
   "outputs": [
    {
     "data": {
      "text/plain": [
       "(199, 300, 3)"
      ]
     },
     "execution_count": 28,
     "metadata": {},
     "output_type": "execute_result"
    }
   ],
   "source": [
    "min(shapes)"
   ]
  },
  {
   "cell_type": "code",
   "execution_count": null,
   "metadata": {},
   "outputs": [],
   "source": []
  }
 ],
 "metadata": {
  "kernelspec": {
   "display_name": "Cancer-Detection-MjsmDLDT",
   "language": "python",
   "name": "python3"
  },
  "language_info": {
   "codemirror_mode": {
    "name": "ipython",
    "version": 3
   },
   "file_extension": ".py",
   "mimetype": "text/x-python",
   "name": "python",
   "nbconvert_exporter": "python",
   "pygments_lexer": "ipython3",
   "version": "3.10.9"
  },
  "orig_nbformat": 4,
  "vscode": {
   "interpreter": {
    "hash": "0f97a322e86eb24db3bc57dc48d7deadd9adb67171af6771b5015e0fa8fb0635"
   }
  }
 },
 "nbformat": 4,
 "nbformat_minor": 2
}
