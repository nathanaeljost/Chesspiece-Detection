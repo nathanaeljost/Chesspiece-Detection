{
 "cells": [
  {
   "cell_type": "code",
   "execution_count": 15,
   "metadata": {},
   "outputs": [],
   "source": [
    "import pandas as pd\n",
    "import PIL\n",
    "from glob import glob\n",
    "import os\n",
    "import re\n",
    "import random\n",
    "import tensorflow\n",
    "import struct\n",
    "import tensorflow as tf\n",
    "import keras\n",
    "import numpy as np\n"
   ]
  },
  {
   "attachments": {},
   "cell_type": "markdown",
   "metadata": {},
   "source": [
    "<font color='red'>Note:</font> Code loosely inspired by [this](https://towardsdatascience.com/board-game-image-recognition-using-neural-networks-116fc876dafa); see also [Github link](https://github.com/andrewleeunderwood/project_MYM)\n",
    "\n",
    "<font color='red'>--> Does not work yet, only copied from the link above</font>"
   ]
  },
  {
   "cell_type": "code",
   "execution_count": null,
   "metadata": {},
   "outputs": [],
   "source": [
    "from keras.applications.vgg16 import VGG16\n",
    "model = VGG16(weights='imagenet')\n",
    "model.summary()"
   ]
  },
  {
   "cell_type": "code",
   "execution_count": 20,
   "metadata": {},
   "outputs": [
    {
     "name": "stdout",
     "output_type": "stream",
     "text": [
      "Found 0 images belonging to 0 classes.\n",
      "Found 0 images belonging to 0 classes.\n"
     ]
    }
   ],
   "source": [
    "from keras.preprocessing.image import ImageDataGenerator\n",
    "\n",
    "image_size = (224, 224)\n",
    "batch_size = 32\n",
    "folder = 'data/final_data'\n",
    "\n",
    "datagen = ImageDataGenerator(\n",
    "        #rotation_range=5,\n",
    "        rescale=1./255,\n",
    "        #horizontal_flip=True,\n",
    "        fill_mode='nearest')\n",
    "\n",
    "test_datagen = ImageDataGenerator(rescale=1./255)\n",
    "\n",
    "train_gen = datagen.flow_from_directory(\n",
    "    folder + '/train',\n",
    "    target_size = image_size,\n",
    "    batch_size = batch_size,\n",
    "    class_mode = 'categorical',\n",
    "    color_mode = 'rgb',\n",
    "    shuffle=True)\n",
    "\n",
    "test_gen = test_datagen.flow_from_directory(\n",
    "    folder + '/test',\n",
    "    target_size = image_size,\n",
    "    batch_size = batch_size,\n",
    "    class_mode = 'categorical',\n",
    "    color_mode = 'rgb',\n",
    "    shuffle=False)"
   ]
  },
  {
   "cell_type": "code",
   "execution_count": null,
   "metadata": {},
   "outputs": [],
   "source": [
    "from keras.models import Sequential\n",
    "from keras.layers import Dense, Conv2D, MaxPooling2D, Flatten\n",
    "from keras.models import Model\n",
    "base_model = VGG16(weights='imagenet', include_top=False, input_shape=(224,224,3)) \n",
    " \n",
    "# Freeze convolutional layers from VGG16\n",
    "for layer in base_model.layers:\n",
    "    layer.trainable = False\n",
    "# Establish new fully connected block\n",
    "x = base_model.output\n",
    "x = Flatten()(x) \n",
    "x = Dense(500, activation='relu')(x) \n",
    "x = Dense(500, activation='relu')(x)\n",
    "predictions = Dense(13, activation='softmax')(x)\n",
    "# This is the model we will train\n",
    "model = Model(inputs=base_model.input, outputs=predictions)\n",
    "model.compile(optimizer='adam', loss='categorical_crossentropy', metrics=['categorical_accuracy'])"
   ]
  },
  {
   "cell_type": "code",
   "execution_count": null,
   "metadata": {},
   "outputs": [],
   "source": [
    "epochs = 10\n",
    "history = model.fit(\n",
    "    train_gen, \n",
    "    epochs=epochs,\n",
    "    verbose = 1,\n",
    "    validation_data=test_gen)"
   ]
  },
  {
   "cell_type": "code",
   "execution_count": null,
   "metadata": {},
   "outputs": [],
   "source": []
  }
 ],
 "metadata": {
  "kernelspec": {
   "display_name": "Chesspiece-Detection-KloNB-iQ",
   "language": "python",
   "name": "python3"
  },
  "language_info": {
   "codemirror_mode": {
    "name": "ipython",
    "version": 3
   },
   "file_extension": ".py",
   "mimetype": "text/x-python",
   "name": "python",
   "nbconvert_exporter": "python",
   "pygments_lexer": "ipython3",
   "version": "3.10.9"
  },
  "orig_nbformat": 4,
  "vscode": {
   "interpreter": {
    "hash": "ed2134023738693953f36c3bef60cd2c1ec1a5b30f59b14e0edb653ce3bbd869"
   }
  }
 },
 "nbformat": 4,
 "nbformat_minor": 2
}
